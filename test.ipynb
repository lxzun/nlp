{
 "cells": [
  {
   "cell_type": "code",
   "execution_count": null,
   "metadata": {},
   "outputs": [],
   "source": []
  },
  {
   "cell_type": "code",
   "execution_count": 40,
   "metadata": {},
   "outputs": [
    {
     "ename": "TypeError",
     "evalue": "list indices must be integers or slices, not tuple",
     "output_type": "error",
     "traceback": [
      "\u001b[0;31m---------------------------------------------------------------------------\u001b[0m",
      "\u001b[0;31mTypeError\u001b[0m                                 Traceback (most recent call last)",
      "\u001b[1;32m/home/ubuntu/workdir/nlp/test.ipynb Cell 2'\u001b[0m in \u001b[0;36m<cell line: 38>\u001b[0;34m()\u001b[0m\n\u001b[1;32m     <a href='vscode-notebook-cell://ssh-remote%2Bubuntu@211.188.81.244:16022/home/ubuntu/workdir/nlp/test.ipynb#ch0000000vscode-remote?line=33'>34</a>\u001b[0m     \u001b[39mreturn\u001b[39;00m answer\n\u001b[1;32m     <a href='vscode-notebook-cell://ssh-remote%2Bubuntu@211.188.81.244:16022/home/ubuntu/workdir/nlp/test.ipynb#ch0000000vscode-remote?line=36'>37</a>\u001b[0m inputs \u001b[39m=\u001b[39m [\u001b[39m20\u001b[39m, \u001b[39m36\u001b[39m]\n\u001b[0;32m---> <a href='vscode-notebook-cell://ssh-remote%2Bubuntu@211.188.81.244:16022/home/ubuntu/workdir/nlp/test.ipynb#ch0000000vscode-remote?line=37'>38</a>\u001b[0m \u001b[39mprint\u001b[39m(solutions(\u001b[39m*\u001b[39;49minputs))\n",
      "\u001b[1;32m/home/ubuntu/workdir/nlp/test.ipynb Cell 2'\u001b[0m in \u001b[0;36msolutions\u001b[0;34m(N, M)\u001b[0m\n\u001b[1;32m     <a href='vscode-notebook-cell://ssh-remote%2Bubuntu@211.188.81.244:16022/home/ubuntu/workdir/nlp/test.ipynb#ch0000000vscode-remote?line=15'>16</a>\u001b[0m cur \u001b[39m=\u001b[39m array[\u001b[39m0\u001b[39m]\n\u001b[1;32m     <a href='vscode-notebook-cell://ssh-remote%2Bubuntu@211.188.81.244:16022/home/ubuntu/workdir/nlp/test.ipynb#ch0000000vscode-remote?line=17'>18</a>\u001b[0m \u001b[39mfor\u001b[39;00m left \u001b[39min\u001b[39;00m \u001b[39menumerate\u001b[39m(array):\n\u001b[0;32m---> <a href='vscode-notebook-cell://ssh-remote%2Bubuntu@211.188.81.244:16022/home/ubuntu/workdir/nlp/test.ipynb#ch0000000vscode-remote?line=18'>19</a>\u001b[0m     cur \u001b[39m-\u001b[39m\u001b[39m=\u001b[39m array[left]\n\u001b[1;32m     <a href='vscode-notebook-cell://ssh-remote%2Bubuntu@211.188.81.244:16022/home/ubuntu/workdir/nlp/test.ipynb#ch0000000vscode-remote?line=19'>20</a>\u001b[0m     \u001b[39mif\u001b[39;00m cur \u001b[39m==\u001b[39m M:\n\u001b[1;32m     <a href='vscode-notebook-cell://ssh-remote%2Bubuntu@211.188.81.244:16022/home/ubuntu/workdir/nlp/test.ipynb#ch0000000vscode-remote?line=20'>21</a>\u001b[0m         answer \u001b[39m+\u001b[39m\u001b[39m=\u001b[39m \u001b[39m1\u001b[39m\n",
      "\u001b[0;31mTypeError\u001b[0m: list indices must be integers or slices, not tuple"
     ]
    }
   ],
   "source": [
    "def solutions(N, M):\n",
    "    array = {i for i in range(2, N + 1)}\n",
    "\n",
    "    for i in range(2, int(N**(1/2)) + 1):\n",
    "        if i in array:\n",
    "            j = 2\n",
    "            while i * j <= N:\n",
    "                if i * j in array:\n",
    "                    array.remove(i * j)\n",
    "                j += 1\n",
    "    \n",
    "    array = sorted(array)\n",
    "    right = 0\n",
    "    answer = 0\n",
    "\n",
    "    cur = array[0]\n",
    "    \n",
    "    for left, _ in enumerate(array):\n",
    "        if left != 0:\n",
    "            cur -= array[left-1]\n",
    "\n",
    "        if cur == M:\n",
    "            answer += 1\n",
    "            continue\n",
    "\n",
    "        if cur > M:\n",
    "            continue\n",
    "\n",
    "        while cur < M:\n",
    "            cur += array[right]\n",
    "            if cur == M:\n",
    "                answer += 1\n",
    "                break\n",
    "            right +=1\n",
    "\n",
    "    return answer\n",
    "\n",
    "\n",
    "inputs = [20, 36]\n",
    "print(solutions(*inputs))"
   ]
  },
  {
   "cell_type": "markdown",
   "metadata": {},
   "source": [
    "문제 설명\n",
    "대학생이 된 루다는 교양 수학 과목을 들으면서 소수에 대해서 공부하게 되었습니다. 공부를 하던 루다는 N 이하의 소수를 차례대로 나열해 보았습니다. 아래는 N = 39 이하의 소수를 나열해 본 결과입니다.\n",
    "\n",
    "         2, 3, 5, 7, 11, 13, 17, 19, 23, 29, 31, 37\n",
    "나열된 소수를 보고 있던 루다는 자연수 N 이하의 소수들을 활용하여 연속된 소수의 합이 M이 되는 경우의 수가 얼마나 있는지 궁금해 졌습니다.\n",
    "\n",
    "가령 N = 20, M = 36이라면 20 이하의 소수들을 활용하여 36 = 5 + 7 + 11 + 13과 36 = 17 + 19로 표현 가능하기 때문에 두 가지의 경우의 수가 있습니다.\n",
    "\n",
    "N = 100, M = 83이라면 100 이하의 소수를 활용하여 83 = 11 + 13 + 17 + 19 + 23이나 83 = 23 + 29 + 31로 표현 할 수 있으며 83 자체로 소수이기 때문에 총 세 가지의 표현이 가능합니다.\n",
    "\n",
    "여기서 중요한 점은 N = 12, M = 10 일 때 10 = 2 + 3 + 5로 표현할 수 있지만 10 = 3 + 7과 같이 연속된 소수로 이루어지지 않은 경우나 10 = 5 + 5과 같이 같은 숫자를 여러 번 사용하는 경우는 세지 않는다는 것입니다.\n",
    "\n",
    "루다를 도와서 N 이하의 소수를 활용하여 연속된 소수의 합이 M이 되는 경우의 수를 찾아주세요.\n",
    "\n",
    "입력\n",
    "\n",
    "사용할 소수의 범위 2<= N <=3,000,000\n",
    "연속된 소수의 합으로 나타내고 싶은 2<=M<=1,000,000,000\n",
    "입출력 예\n",
    "\n",
    "N   M   Return\n",
    "20   36   2\n",
    "100   83   3\n",
    "12   10   1"
   ]
  }
 ],
 "metadata": {
  "interpreter": {
   "hash": "a3aab8c366ddf25bff7ee92745ef8af41ae31f0d8604aaab67d6185260175374"
  },
  "kernelspec": {
   "display_name": "Python 3.8.13 ('nlp')",
   "language": "python",
   "name": "python3"
  },
  "language_info": {
   "codemirror_mode": {
    "name": "ipython",
    "version": 3
   },
   "file_extension": ".py",
   "mimetype": "text/x-python",
   "name": "python",
   "nbconvert_exporter": "python",
   "pygments_lexer": "ipython3",
   "version": "3.8.13"
  },
  "orig_nbformat": 4
 },
 "nbformat": 4,
 "nbformat_minor": 2
}
